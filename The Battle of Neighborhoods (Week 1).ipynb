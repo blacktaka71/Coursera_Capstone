{
 "cells": [
  {
   "cell_type": "markdown",
   "metadata": {},
   "source": [
    "# The Battle of Neighborhoods (Week 1)\n",
    "\n",
    "## A description of the problem and a discussion of the background.\n",
    "\n",
    "### I, as a business consultant, will be exploring the city of Toronto for my friend who wants to open a new restaurant. My friend seeks advice on a location suitable for his new restaurant in view of any possible competitors and the population of each neighborhood in the City of Toronto.\n",
    "\n",
    "\n",
    "## A description of the data and how it will be used to solve the problem.\n",
    "\n",
    "### The following data will be used for analyzing neighborhoods in the city of Toronto including finding top venues in each neighborhood, clustering the neighborhoods, creating a map based on such clusters, and examing ach cluster.\n",
    "\n",
    "### 1. Wikipedia data to obtain neighborhoods profiles. \n",
    "Link: https://en.wikipedia.org/wiki/List_of_postal_codes_of_Canada:_M\"\n",
    "\n",
    "### 2. Foursquare data to obtain resturant/venue information.\n",
    "Using foursquare data to get information about restaurants in Toronto\n",
    "\n",
    "Link: https://foursquare.com/explore?mode=url&ne=44.418088%2C-78.362732&q=Restaurant&sw=42.742978%2C-80.554504"
   ]
  },
  {
   "cell_type": "code",
   "execution_count": null,
   "metadata": {},
   "outputs": [],
   "source": []
  }
 ],
 "metadata": {
  "kernelspec": {
   "display_name": "Python 3",
   "language": "python",
   "name": "python3"
  },
  "language_info": {
   "codemirror_mode": {
    "name": "ipython",
    "version": 3
   },
   "file_extension": ".py",
   "mimetype": "text/x-python",
   "name": "python",
   "nbconvert_exporter": "python",
   "pygments_lexer": "ipython3",
   "version": "3.7.6"
  }
 },
 "nbformat": 4,
 "nbformat_minor": 4
}
